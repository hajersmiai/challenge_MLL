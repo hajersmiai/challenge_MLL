{
 "cells": [
  {
   "cell_type": "markdown",
   "metadata": {},
   "source": [
    "# Embedding\n",
    "\n",
    "## Why Embedding?\n",
    "As we know, machines can't handle text, it can only handle numbers. But how to convert a word to numbers?\n",
    "\n",
    "The most naive approach would be to take a list of all the words in your text and attribute a number to all of them. It will work but you can imagine that some problems will appear:\n",
    "* How do you handle unknown words? \n",
    "* If your text contains `doctor`, `nurse`, and `candy`. `doctor` and `nurse` have a strong similarity but `candy` doesn't. How can we make the machine understand that? With our naive technique, `doctor` could have the number `5` associated to it and nurse the number `98767`.\n",
    "\n",
    "Of course, a lot of people already spent some time with those problems. the solution that came out of it is \"Embedding\". \n",
    "\n",
    "## What is embeddings?\n",
    "\n",
    "An embedding is a **VECTOR** which represents a word or a document.\n",
    "\n",
    "A vector will be attributed to each token. Each vector will contain multiple dimensions (usually tens or hundreds of dimensions).\n",
    "\n",
    "```\n",
    "[...] associate with each word in the vocabulary a distributed word feature vector [...] The feature vector represents different aspects of the word: each word is associated with a point in a vector space. The number of features [...] is much smaller than the size of the vocabulary.\n",
    "```\n",
    "- [A Neural Probabilistic Language Model](https://www.jmlr.org/papers/volume3/bengio03a/bengio03a.pdf), 2003.\n",
    "\n",
    "Long story short, embeddings convert words into vectors in a way that allows the machine to understand the similarity betweens them.\n",
    "\n",
    "Each embedding library has it's own way of classifying words, it will regroup words into big categories. Each word will get a score for each category.\n",
    "\n",
    "To take a simple example the word `mother` could be classified like that:\n",
    "\n",
    "|        | female | family | human | animal|\n",
    "|--------|--------|---------|-------|-------|\n",
    "| mother | 0.9    | 0.9.    | 0.7   | 0.1   |\n",
    "\n",
    "**Explanations:** Mother has a strong similarity with female, family and human but it has a low similarity with animal.\n",
    "\n",
    "**Disclaimer:** Those numbers and categories are totally arbitrary and are only here to show an example.\n",
    "\n",
    "Here is another example with more complete datas:\n",
    "\n",
    "![embedding](https://miro.medium.com/max/2598/1*sAJdxEsDjsPMioHyzlN3_A.png)\n",
    "\n",
    "## Should I do it by hand?\n",
    "\n",
    "You could, but if some people already did the job for you and spent a lot of time to optimize it, why not use it?\n",
    "\n",
    "## What to use?\n",
    "\n",
    "There are a lot of libraries out there for embeddings. Which one is the best? Once again, *it depends*. The results will change depending on the text you are using, the information you want to extract, the model you use,...\n",
    "\n",
    "Choosing the \"best\" embedding model will be part of the hyper-optimization that you can do at the end of a project.\n",
    "\n",
    "If you want understand embeddings more in depth, [follow this link](http://jalammar.github.io/illustrated-word2vec/) or watch this [video](https://www.youtube.com/watch?v=gQddtTdmG_8).\n",
    "\n",
    "Here are some of the best libraries:\n",
    "\n",
    "* [Gensim](https://pypi.org/project/gensim/)\n",
    "* [Word2Vec](https://www.tensorflow.org/tutorials/text/word2vec)\n",
    "\n",
    "This next bit of code loads a model for practice. If you get an error, it may be due to the Python version (3.12.3 works), make sure you create a venv for that."
   ]
  },
  {
   "cell_type": "code",
   "execution_count": 2,
   "metadata": {},
   "outputs": [
    {
     "name": "stdout",
     "output_type": "stream",
     "text": [
      "Downloading model...\n",
      "Model downloaded and saved.\n"
     ]
    }
   ],
   "source": [
    "import os\n",
    "import gensim.downloader as api\n",
    "from gensim.models import KeyedVectors\n",
    "import math\n",
    "import numpy as np\n",
    "\n",
    "# Path where you want to store/load the model\n",
    "model_path = \"glove-wiki-gigaword-300.kv\"\n",
    "\n",
    "# Load model from disk if exists, else download and save it\n",
    "if os.path.exists(model_path):\n",
    "    print(\"Loading model from local file...\")\n",
    "    model = KeyedVectors.load(\"data/\"+model_path)\n",
    "else:\n",
    "    print(\"Downloading model...\")\n",
    "    model = api.load(model_path[:-3])\n",
    "    model.save(\"data/\"+model_path)\n",
    "    print(\"Model downloaded and saved.\")"
   ]
  },
  {
   "cell_type": "markdown",
   "metadata": {},
   "source": [
    "## Practice time!\n",
    "\n",
    "Enough reading, let's practice a bit. On this sentence:"
   ]
  },
  {
   "cell_type": "code",
   "execution_count": null,
   "metadata": {},
   "outputs": [],
   "source": [
    "sentence = \"I love learning\""
   ]
  },
  {
   "cell_type": "markdown",
   "metadata": {},
   "source": [
    "What do the word vectors look like? What is their size? What is their [magnitude](https://numpy.org/doc/2.1/reference/generated/numpy.linalg.norm.html)?"
   ]
  },
  {
   "cell_type": "code",
   "execution_count": null,
   "metadata": {},
   "outputs": [],
   "source": [
    "#Your code here, you may get the vectors from using the model like a dictionary\n",
    "tokens = [\"i\", \"love\", \"learning\"]  # glove model is lowercase\n",
    "for w in tokens:\n",
    "    if w in model:\n",
    "        vec = model[w]\n",
    "        print(w, vec.shape, float(np.linalg.norm(vec)))\n",
    "    else:\n",
    "        print(w, \"→ OOV (out of vocabulary)\")\n",
    "\n",
    "# Sentence vector = mean of word vectors (skip OOV)\n",
    "vecs = [model[w] for w in tokens if w in model]\n",
    "sentence_vec = np.mean(vecs, axis=0)\n",
    "print(\"sentence shape:\", sentence_vec.shape, \"magnitude:\", float(np.linalg.norm(sentence_vec)))"
   ]
  },
  {
   "cell_type": "markdown",
   "metadata": {},
   "source": [
    "## Maths on text\n",
    "\n",
    "Since the words are embedded into vectors we can now apply mathematical methods on them.\n",
    "\n",
    "### Average vector\n",
    "\n",
    "For example we could build the average vector for a text by using NumPy! This is a straightforward way to build one single representation for a text.\n",
    "\n",
    "- Apply a gensim model on the text\n",
    "- Get all word vectors into a list\n",
    "- Compute and display the average vector of the list\n",
    "- Get it's representation using the gensim most_similar method"
   ]
  },
  {
   "cell_type": "code",
   "execution_count": null,
   "metadata": {},
   "outputs": [],
   "source": [
    "text = \"I want to be a famous data scientist\"\n",
    "tokens = [\"i\", \"want\", \"to\", \"be\", \"a\", \"famous\", \"data\", \"scientist\"]\n",
    "# Your code here\n",
    "for w in tokens:\n",
    "    if w in model:\n",
    "        vec = model[w]\n",
    "        print(w, vec.shape, float(np.linalg.norm(vec)))\n",
    "    else:\n",
    "        print(w, \"→ OOV (out of vocabulary)\")\n",
    "\n",
    "# Sentence vector = mean of word vectors (skip OOV)\n",
    "vecs = [model[w] for w in tokens if w in model]\n",
    "sentence_vec = np.mean(vecs, axis=0)\n",
    "print(\"sentence shape:\", sentence_vec.shape, \"magnitude:\", float(np.linalg.norm(sentence_vec)))\n",
    "\n",
    "# Your code here\n"
   ]
  },
  {
   "cell_type": "markdown",
   "metadata": {},
   "source": [
    "This does not work very well in practice, still let us explore further."
   ]
  },
  {
   "cell_type": "markdown",
   "metadata": {},
   "source": [
    "### Word similarity\n",
    "\n",
    "We can also compute the similarity between two words by using distance measures (e.g. [cosine similarity](https://scikit-learn.org/stable/modules/generated/sklearn.metrics.pairwise.cosine_similarity.html), [euclidean distance](https://scikit-learn.org/stable/modules/generated/sklearn.metrics.pairwise.euclidean_distances.html)...). These measures will calculate the distance between word embeddings in the vector space.\n",
    "\n",
    "Identify what fundamental difference there is between these two metrics when it comes to assessissing similarity between vectors.\n",
    "\n",
    "#### Let's practice!\n",
    "\n",
    "- Compute the cosine and the euclidean distance between those 4 words in a similarity table visualizing it with matplotlib and/or seaborn\n",
    "- Assess which words are the most similar and the most dissimilar"
   ]
  },
  {
   "cell_type": "code",
   "execution_count": null,
   "metadata": {},
   "outputs": [],
   "source": [
    "words = [\"computer\",\"keyboard\",\"water\",\"ocean\"]\n",
    "from sklearn.metrics.pairwise import cosine_similarity\n",
    "from sklearn.feature_extraction import text\n",
    "import matplotlib.pyplot as plt\n",
    "vectorizer = text.CountVectorizer()\n",
    "X = vectorizer.fit_transform(words)\n",
    "cosine_sim = cosine_similarity(X)\n",
    "print(\"Cosine similarity matrix:\\n\", cosine_sim)\n",
    "\n",
    "plt.imshow(cosine_sim, cmap='hot', interpolation='nearest')\n",
    "plt.colorbar()\n",
    "plt.title(\"Cosine Similarity Heatmap\")\n",
    "plt.show()\n",
    "# distance euclidean\n",
    "from sklearn.metrics import pairwise_distances\n",
    "euclidean_dist = pairwise_distances(X.toarray(), metric='euclidean')\n",
    "print(\"Euclidean distance matrix:\\n\", euclidean_dist)\n",
    "\n",
    "plt.imshow(euclidean_dist, cmap='hot', interpolation='nearest')\n",
    "plt.colorbar()\n",
    "plt.title(\"Euclidean Distance Heatmap\")\n",
    "plt.show()"
   ]
  },
  {
   "cell_type": "markdown",
   "metadata": {},
   "source": [
    "## Combining things together\n",
    "\n",
    "This next bit of code uses the gensim library to allow you to perform arithmetic operations on vectors. Things you may want to try:\n",
    "\n",
    "Silly additions:\n",
    " - man + hair\n",
    "\n",
    "Checking for some more abstractions:\n",
    " - hair - woman + man\n",
    " - mice - home + city\n",
    " - children - child + goose\n",
    " - paris - france + belgium\n",
    " - triceratops - deer + wolf\n",
    "\n",
    "Bonus points if you can make a function which takes any form of addition and substraction calculations on word vectors."
   ]
  },
  {
   "cell_type": "code",
   "execution_count": null,
   "metadata": {},
   "outputs": [],
   "source": [
    "equals=model.most_similar(positive=['king', 'woman'], negative=['man'])[0][0]\n",
    "print(f\"'king' - 'man' + 'woman' = '{equals}'\")\n",
    "\n",
    "#Your code here\n",
    "equals=model.most_similar(positive=['hair', 'woman'], negative=['man'])[0][0]\n",
    "print(f\"'hair' - 'man' + 'woman' = '{equals}'\")\n",
    "\n",
    "equals=model.most_similar(positive=['mice','city'], negative=['home'])[0][0]\n",
    "print(f\"'mice' - 'home' + 'city' = '{equals}'\")\n",
    "\n",
    "equals=model.most_similar(positive=['children','goose'], negative=['child'])[0][0]\n",
    "print(f\"'children' - 'child' + 'goose' = '{equals}'\")\n",
    "\n",
    "equals=model.most_similar(positive=['paris', 'belgium'], negative=['france'])[0][0]\n",
    "print(f\"'paris' - 'france' + 'belgium' = '{equals}'\")\n",
    "\n",
    "equals=model.most_similar(positive=['triceratops', 'wolf'], negative=['deer'])[0][0]\n",
    "print(f\"'triceratops' - 'deer' + 'wolf' = '{equals}'\")"
   ]
  },
  {
   "cell_type": "markdown",
   "metadata": {},
   "source": [
    "When you play with these examples (or others). You quickly notice both the powerful levels of abstraction and the gaping limitations."
   ]
  },
  {
   "cell_type": "markdown",
   "metadata": {},
   "source": [
    "## More resources\n",
    "* [Why do we use word embeddings in NLP?](https://towardsdatascience.com/why-do-we-use-embeddings-in-nlp-2f20e1b632d2)\n",
    "* [More details on what word embeddings are exactly?](https://www.analyticsvidhya.com/blog/2017/06/word-embeddings-count-word2veec/)"
   ]
  }
 ],
 "metadata": {
  "kernelspec": {
   "display_name": ".venv312 (3.12.10)",
   "language": "python",
   "name": "python3"
  },
  "language_info": {
   "codemirror_mode": {
    "name": "ipython",
    "version": 3
   },
   "file_extension": ".py",
   "mimetype": "text/x-python",
   "name": "python",
   "nbconvert_exporter": "python",
   "pygments_lexer": "ipython3",
   "version": "3.12.10"
  }
 },
 "nbformat": 4,
 "nbformat_minor": 2
}
